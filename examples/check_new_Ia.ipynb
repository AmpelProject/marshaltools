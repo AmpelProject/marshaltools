{
 "cells": [
  {
   "cell_type": "code",
   "execution_count": 1,
   "metadata": {},
   "outputs": [],
   "source": [
    "import numpy as np\n",
    "import matplotlib.pyplot as plt\n",
    "%matplotlib inline\n",
    "\n",
    "from IPython.display import display, HTML\n",
    "\n",
    "import marshaltools"
   ]
  },
  {
   "cell_type": "code",
   "execution_count": 2,
   "metadata": {},
   "outputs": [],
   "source": [
    "import requests\n",
    "import re\n",
    "\n",
    "def check_status(code):\n",
    "    if code != 200:\n",
    "        if code in marshaltools.gci_utils.httpErrors.keys():\n",
    "            raise ValueError(marshaltools.gci_utils,httpErrors[code])\n",
    "        else:\n",
    "            raise ValueError('Error %i'%code)\n",
    "\n",
    "def iniatiate_transfer(name, to_program=32):\n",
    "    # Get sourceid\n",
    "    r = requests.post('http://skipper.caltech.edu:8080/cgi-bin/growth/view_source.cgi', \n",
    "                      auth=(pl1.user, pl1.passwd), \n",
    "                      data={'name': name})\n",
    "    check_status(r.status_code)            \n",
    "    sourceid = re.findall('[0-9]+', re.findall('transfer_source.cgi\\?sourceid=[0-9]+', r.text)[0])[0]\n",
    "    \n",
    "    # id of from_program\n",
    "    r = requests.post('http://skipper.caltech.edu:8080/cgi-bin/growth/transfer_source.cgi', \n",
    "                  auth=(pl1.user, pl1.passwd), \n",
    "                  data={'sourceid': sourceid})\n",
    "    check_status(r.status_code)            \n",
    "    programid = re.findall('[0-9]+', re.findall('From Program: <select name=from_program >\\n<option value=\\\"[0-9]+\\\">', r.text)[0])[0]\n",
    "\n",
    "    # create transfer\n",
    "    r = requests.post('http://skipper.caltech.edu:8080/cgi-bin/growth/transfer_source.cgi', \n",
    "                  auth=(pl1.user, pl1.passwd), \n",
    "                  data={'commit': 'yes', 'sourceid': sourceid, 'id': -1, 'from_program': programid,\n",
    "                        'to_program': 32, 'share': 'yes', 'comment': '', 'status': 'Submit'})\n",
    "    check_status(r.status_code)            \n",
    "    \n",
    "    return sourceid\n",
    "\n",
    "def confirm_transfer(sourceids):\n",
    "    # get currently pending transactions to determine transaction id\n",
    "    r = requests.post('http://skipper.caltech.edu:8080/cgi-bin/growth/pending_transactions.cgi', \n",
    "                      auth=(pl1.user, pl1.passwd))\n",
    "    check_status(r.status_code)    \n",
    "    \n",
    "    for name, sourceid in sourceids.items():\n",
    "        pattern = '<input type=hidden name=\"id\" value=[0-9]+>\\s*<input type=hidden name=\"sourceid\" value=%s>'%sourceid\n",
    "        query = re.findall(pattern, r.text)\n",
    "        \n",
    "        if len(query) > 0:\n",
    "            transid = re.findall('[0-9]+', query[0])[0]\n",
    "    \n",
    "            r2 = requests.post('http://skipper.caltech.edu:8080/cgi-bin/growth/transfer_source.cgi', \n",
    "                              auth=(pl1.user, pl1.passwd), \n",
    "                              data={'commit': 'yes', 'sourceid': sourceid, 'id': transid, 'status': 'Accept'})\n",
    "        else:\n",
    "            print('%s (id %s) not found in transactions.'%(name, sourceid))\n",
    "        "
   ]
  },
  {
   "cell_type": "code",
   "execution_count": 3,
   "metadata": {},
   "outputs": [
    {
     "name": "stderr",
     "output_type": "stream",
     "text": [
      "INFO:marshaltools.ProgramList:Initialized ProgramList for program Cosmology (ID 1)\n",
      "INFO:marshaltools.ProgramList:Loaded 1501 saved sources for program Cosmology.\n"
     ]
    }
   ],
   "source": [
    "# Start by loading the list of SNe for the Cosmology program\n",
    "pl1 = marshaltools.ProgramList('Cosmology')"
   ]
  },
  {
   "cell_type": "code",
   "execution_count": 4,
   "metadata": {},
   "outputs": [],
   "source": [
    "pls = {}"
   ]
  },
  {
   "cell_type": "code",
   "execution_count": null,
   "metadata": {},
   "outputs": [
    {
     "name": "stderr",
     "output_type": "stream",
     "text": [
      "INFO:marshaltools.ProgramList:Initialized ProgramList for program ZTF Science Validation (ID 0)\n",
      "INFO:marshaltools.ProgramList:Loaded 3136 saved sources for program ZTF Science Validation.\n",
      "INFO:marshaltools.ProgramList:Initialized ProgramList for program Redshift Completeness Factor (ID 2)\n",
      "INFO:marshaltools.ProgramList:Loaded 3534 saved sources for program Redshift Completeness Factor.\n",
      "INFO:marshaltools.ProgramList:Initialized ProgramList for program Gravitational Lenses (ID 3)\n",
      "INFO:marshaltools.ProgramList:Loaded 87 saved sources for program Gravitational Lenses.\n",
      "INFO:marshaltools.ProgramList:Initialized ProgramList for program Stripped Envelope Supernovae (ID 4)\n",
      "INFO:marshaltools.ProgramList:Loaded 213 saved sources for program Stripped Envelope Supernovae.\n",
      "INFO:marshaltools.ProgramList:Initialized ProgramList for program Infant Supernovae (ID 5)\n",
      "INFO:marshaltools.ProgramList:Loaded 900 saved sources for program Infant Supernovae.\n",
      "INFO:marshaltools.ProgramList:Initialized ProgramList for program Fast Transients (ID 6)\n",
      "INFO:marshaltools.ProgramList:Loaded 385 saved sources for program Fast Transients.\n",
      "INFO:marshaltools.ProgramList:Initialized ProgramList for program Rapidly Evolving Transients (ID 7)\n",
      "INFO:marshaltools.ProgramList:Loaded 472 saved sources for program Rapidly Evolving Transients.\n",
      "INFO:marshaltools.ProgramList:Initialized ProgramList for program Superluminous Supernovae (ID 8)\n",
      "INFO:marshaltools.ProgramList:Loaded 235 saved sources for program Superluminous Supernovae.\n",
      "INFO:marshaltools.ProgramList:Initialized ProgramList for program Superluminous Supernovae II (ID 9)\n",
      "INFO:marshaltools.ProgramList:Loaded 1297 saved sources for program Superluminous Supernovae II.\n",
      "INFO:marshaltools.ProgramList:Initialized ProgramList for program AMPEL Test (ID 10)\n",
      "INFO:marshaltools.ProgramList:Loaded 2485 saved sources for program AMPEL Test.\n",
      "INFO:marshaltools.ProgramList:Initialized ProgramList for program Bogus (ID 11)\n",
      "INFO:marshaltools.ProgramList:Loaded 2 saved sources for program Bogus.\n",
      "INFO:marshaltools.ProgramList:Initialized ProgramList for program Type IIn Supernovae (ID 12)\n",
      "INFO:marshaltools.ProgramList:Loaded 16 saved sources for program Type IIn Supernovae.\n",
      "INFO:marshaltools.ProgramList:Initialized ProgramList for program Type II Supernovae (ID 13)\n",
      "INFO:marshaltools.ProgramList:Loaded 36 saved sources for program Type II Supernovae.\n",
      "INFO:marshaltools.ProgramList:Initialized ProgramList for program AmpelCosmology (ID 14)\n",
      "INFO:marshaltools.ProgramList:Loaded 0 saved sources for program AmpelCosmology.\n",
      "INFO:marshaltools.ProgramList:Initialized ProgramList for program AmpelTNS (ID 15)\n",
      "INFO:marshaltools.ProgramList:Loaded 9821 saved sources for program AmpelTNS.\n",
      "INFO:marshaltools.ProgramList:Initialized ProgramList for program AmpelRapid (ID 16)\n"
     ]
    }
   ],
   "source": [
    "# Furthermore load a list of all source on the marshal that you have access to.\n",
    "# This may take a while.\n",
    "for p in pl1.program_list:\n",
    "    if p['name'] != 'Cosmology' and p['name'] not in pls.keys():\n",
    "        pls[p['name']] = marshaltools.ProgramList(p['name'], timeout=300) "
   ]
  },
  {
   "cell_type": "code",
   "execution_count": null,
   "metadata": {},
   "outputs": [],
   "source": [
    "# Figure out which SNe should be added to the Cosmology program\n",
    "new = []\n",
    "for pl_ in pls.values():\n",
    "    for s_ in pl_.sources.values():\n",
    "        if (s_['name'] not in pl1.sources.keys() \n",
    "            and (s_['name'], s_['classification']) not in new\n",
    "            and s_['classification'] is not None \n",
    "            and s_['classification'].startswith('SN Ia')):\n",
    "            new.append((s_['name'], s_['classification']))\n",
    "            \n",
    "print('Number of SNe Ia currently in the Cosmology program:', \n",
    "      len([a for a in pl1.sources.values() \n",
    "      if a['classification'] is not None and\n",
    "      a['classification'].startswith('SN Ia')]))\n",
    "print('Number of SNe Ia to be added:', len(new))"
   ]
  },
  {
   "cell_type": "code",
   "execution_count": 12,
   "metadata": {},
   "outputs": [
    {
     "name": "stdout",
     "output_type": "stream",
     "text": [
      "ZTF19abpbqor\n",
      "ZTF18acrfklz\n",
      "ZTF19aboxjlj\n",
      "ZTF19aafmfxg\n",
      "ZTF19abkcpxe\n",
      "ZTF19aaphkxx\n",
      "ZTF19aargqez\n",
      "ZTF19aawgolt\n",
      "ZTF19aayuxpq\n",
      "ZTF19aaynsws\n",
      "Done.\n",
      "ZTF19abangub\n",
      "ZTF19abcfzdy\n",
      "ZTF19abddqhy\n",
      "ZTF19aazpnlc\n",
      "ZTF19abdyawn\n",
      "ZTF19abpveqn\n",
      "ZTF19abeytzv\n",
      "ZTF19abfpupe\n",
      "ZTF19aayxlsg\n",
      "ZTF19abgfrbl\n",
      "Done.\n",
      "ZTF19abfwnar\n",
      "ZTF19abewqfb\n",
      "ZTF19abgbkwv\n",
      "ZTF19abhxllw\n",
      "ZTF19abgqwed\n",
      "ZTF19abjpkdz\n",
      "ZTF19abjibet\n",
      "ZTF19ablekwo\n",
      "ZTF19abnxglw\n",
      "ZTF19abowcic\n",
      "Done.\n",
      "ZTF19abnkrcd\n",
      "ZTF19abhzdjp\n",
      "ZTF19abkdehm\n",
      "ZTF19abpbmli\n",
      "ZTF19aavnzti\n",
      "ZTF19aawyepw\n",
      "ZTF19aazpvyr\n",
      "ZTF19aaypehm\n",
      "ZTF19abafrvy\n",
      "ZTF19abasxkg\n",
      "Done.\n",
      "ZTF19abanfrn\n",
      "ZTF19abcejlc\n",
      "ZTF19abatvit\n",
      "ZTF19abdjsss\n",
      "ZTF19abdkcts\n",
      "ZTF19abdkdoz\n",
      "ZTF19abcejoa\n",
      "ZTF19abdkfqe\n",
      "ZTF19abdduix\n",
      "ZTF19abegxob\n",
      "Done.\n",
      "ZTF19abdkgns\n",
      "ZTF19abegruk\n",
      "ZTF19abdqaao\n",
      "ZTF19abdgpuv\n",
      "ZTF19abetjcx\n",
      "ZTF19abdjwtv\n",
      "ZTF19abeloei\n",
      "ZTF19abdkbwy\n",
      "ZTF19abfqhis\n",
      "ZTF19abctnpk\n",
      "Done.\n",
      "ZTF19abcncdg\n",
      "ZTF18abdcudb\n",
      "ZTF19abfvemi\n",
      "ZTF19abdsntm\n",
      "ZTF19abfvovo\n",
      "ZTF19abexfad\n",
      "ZTF19abfaqqo\n",
      "ZTF19abfvhlx\n",
      "ZTF19abfjjlk\n",
      "ZTF19abdoznh\n",
      "Done.\n",
      "ZTF19abgprpq\n",
      "ZTF19abfvpkq\n",
      "ZTF19abgsyrp\n",
      "ZTF18abugthp\n",
      "ZTF19abhhocz\n",
      "ZTF19abimkwn\n",
      "ZTF19abpavsn\n",
      "ZTF19abidfxd\n",
      "ZTF19abhemuy\n",
      "ZTF19abidfsb\n",
      "Done.\n",
      "ZTF19abisbgx\n",
      "ZTF19abgmjtu\n",
      "ZTF19abgmxwn\n",
      "ZTF19abjswdz\n",
      "ZTF19abkgbul\n",
      "ZTF19abkdrir\n",
      "ZTF19abjgdko\n",
      "ZTF19ablqnuw\n",
      "ZTF19abipmfl\n",
      "ZTF19abjslyw\n",
      "Done.\n",
      "ZTF19abitljz\n",
      "ZTF19ablusdf\n",
      "ZTF19ablpxtf\n",
      "ZTF19abimzvh\n",
      "ZTF19abhibzk\n",
      "ZTF19ablpfhz\n",
      "ZTF19abixauz\n",
      "ZTF19abmqasg\n",
      "ZTF19abmzord\n",
      "ZTF19abnishu\n",
      "Done.\n",
      "ZTF19abnoxud\n",
      "ZTF19abcegvm\n",
      "ZTF19aayxlma\n",
      "ZTF19abdqapq\n",
      "ZTF19abfdupx\n",
      "ZTF19aauhbua\n",
      "ZTF19abkeuto\n",
      "ZTF19abaesgr\n",
      "ZTF19abdkfxp\n",
      "Done.\n"
     ]
    }
   ],
   "source": [
    "# Add them in groups of 10, i.e. 10 SNe are added to the transfer page and then confirmed.\n",
    "# This saves a few HTML requests. Do not set n to a much higher value because this will add\n",
    "# a lot of SNe to the transfer page, making it hard to use for a few minutes, best to avoid that.\n",
    "\n",
    "n = 10\n",
    "\n",
    "while len(new) > 0: \n",
    "    sourceids = {}\n",
    "    for k in range(min(len(new), n)):\n",
    "        name = new.pop(0)[0]\n",
    "        print(name)\n",
    "    \n",
    "        sourceids[name] = iniatiate_transfer(name)\n",
    "\n",
    "    confirm_transfer(sourceids)\n",
    "    print('Done.')"
   ]
  },
  {
   "cell_type": "code",
   "execution_count": 66,
   "metadata": {
    "scrolled": true
   },
   "outputs": [
    {
     "data": {
      "text/html": [
       "<a href=http://skipper.caltech.edu:8080/cgi-bin/growth/view_source.cgi?name=ZTF19aakjfaz>ZTF19aakjfaz (SN Ia)</a>"
      ],
      "text/plain": [
       "<IPython.core.display.HTML object>"
      ]
     },
     "metadata": {},
     "output_type": "display_data"
    },
    {
     "data": {
      "text/html": [
       "<a href=http://skipper.caltech.edu:8080/cgi-bin/growth/view_source.cgi?name=ZTF19aakthjl>ZTF19aakthjl (SN Ia)</a>"
      ],
      "text/plain": [
       "<IPython.core.display.HTML object>"
      ]
     },
     "metadata": {},
     "output_type": "display_data"
    },
    {
     "data": {
      "text/html": [
       "<a href=http://skipper.caltech.edu:8080/cgi-bin/growth/view_source.cgi?name=ZTF19aalzrrz>ZTF19aalzrrz (SN Ia)</a>"
      ],
      "text/plain": [
       "<IPython.core.display.HTML object>"
      ]
     },
     "metadata": {},
     "output_type": "display_data"
    },
    {
     "data": {
      "text/html": [
       "<a href=http://skipper.caltech.edu:8080/cgi-bin/growth/view_source.cgi?name=ZTF19aamhhae>ZTF19aamhhae (SN Ia)</a>"
      ],
      "text/plain": [
       "<IPython.core.display.HTML object>"
      ]
     },
     "metadata": {},
     "output_type": "display_data"
    },
    {
     "data": {
      "text/html": [
       "<a href=http://skipper.caltech.edu:8080/cgi-bin/growth/view_source.cgi?name=ZTF19aamfxby>ZTF19aamfxby (SN Ia 91T-like)</a>"
      ],
      "text/plain": [
       "<IPython.core.display.HTML object>"
      ]
     },
     "metadata": {},
     "output_type": "display_data"
    },
    {
     "data": {
      "text/html": [
       "<a href=http://skipper.caltech.edu:8080/cgi-bin/growth/view_source.cgi?name=ZTF19aalveag>ZTF19aalveag (SN Ia)</a>"
      ],
      "text/plain": [
       "<IPython.core.display.HTML object>"
      ]
     },
     "metadata": {},
     "output_type": "display_data"
    },
    {
     "data": {
      "text/html": [
       "<a href=http://skipper.caltech.edu:8080/cgi-bin/growth/view_source.cgi?name=ZTF19aanbfaw>ZTF19aanbfaw (SN Ia)</a>"
      ],
      "text/plain": [
       "<IPython.core.display.HTML object>"
      ]
     },
     "metadata": {},
     "output_type": "display_data"
    },
    {
     "data": {
      "text/html": [
       "<a href=http://skipper.caltech.edu:8080/cgi-bin/growth/view_source.cgi?name=ZTF19aamvmer>ZTF19aamvmer (SN Ia)</a>"
      ],
      "text/plain": [
       "<IPython.core.display.HTML object>"
      ]
     },
     "metadata": {},
     "output_type": "display_data"
    },
    {
     "data": {
      "text/html": [
       "<a href=http://skipper.caltech.edu:8080/cgi-bin/growth/view_source.cgi?name=ZTF19aangier>ZTF19aangier (SN Ia)</a>"
      ],
      "text/plain": [
       "<IPython.core.display.HTML object>"
      ]
     },
     "metadata": {},
     "output_type": "display_data"
    },
    {
     "data": {
      "text/html": [
       "<a href=http://skipper.caltech.edu:8080/cgi-bin/growth/view_source.cgi?name=ZTF19aapocyd>ZTF19aapocyd (SN Ia)</a>"
      ],
      "text/plain": [
       "<IPython.core.display.HTML object>"
      ]
     },
     "metadata": {},
     "output_type": "display_data"
    }
   ],
   "source": [
    "print('Number of SNe Ia now in the Cosmology program:', \n",
    "      len([a for a in pl1.sources.values() \n",
    "      if a['classification'] is not None and\n",
    "      a['classification'].startswith('SN Ia')]))"
   ]
  }
 ],
 "metadata": {
  "anaconda-cloud": {},
  "kernelspec": {
   "display_name": "Python 3",
   "language": "python",
   "name": "python3"
  },
  "language_info": {
   "codemirror_mode": {
    "name": "ipython",
    "version": 3
   },
   "file_extension": ".py",
   "mimetype": "text/x-python",
   "name": "python",
   "nbconvert_exporter": "python",
   "pygments_lexer": "ipython3",
   "version": "3.6.7"
  }
 },
 "nbformat": 4,
 "nbformat_minor": 2
}
