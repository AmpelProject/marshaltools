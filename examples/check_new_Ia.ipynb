{
 "cells": [
  {
   "cell_type": "code",
   "execution_count": null,
   "metadata": {},
   "outputs": [],
   "source": [
    "import numpy as np\n",
    "import matplotlib.pyplot as plt\n",
    "%matplotlib inline\n",
    "\n",
    "from IPython.display import display, HTML\n",
    "\n",
    "import marshaltools"
   ]
  },
  {
   "cell_type": "code",
   "execution_count": null,
   "metadata": {},
   "outputs": [],
   "source": [
    "import requests\n",
    "import re\n",
    "\n",
    "def check_status(code):\n",
    "    if code != 200:\n",
    "        if code in marshaltools.gci_utils.httpErrors.keys():\n",
    "            raise ValueError(marshaltools.gci_utils,httpErrors[code])\n",
    "        else:\n",
    "            raise ValueError('Error %i'%code)\n",
    "\n",
    "def iniatiate_transfer(name, to_program=32):\n",
    "    # Get sourceid\n",
    "    r = requests.post('http://skipper.caltech.edu:8080/cgi-bin/growth/view_source.cgi', \n",
    "                      auth=(pl1.user, pl1.passwd), \n",
    "                      data={'name': name})\n",
    "    check_status(r.status_code)            \n",
    "    sourceid = re.findall('[0-9]+', re.findall('transfer_source.cgi\\?sourceid=[0-9]+', r.text)[0])[0]\n",
    "    \n",
    "    # id of from_program\n",
    "    r = requests.post('http://skipper.caltech.edu:8080/cgi-bin/growth/transfer_source.cgi', \n",
    "                  auth=(pl1.user, pl1.passwd), \n",
    "                  data={'sourceid': sourceid})\n",
    "    check_status(r.status_code)            \n",
    "    programid = re.findall('[0-9]+', re.findall('From Program: <select name=from_program >\\n<option value=\\\"[0-9]+\\\">', r.text)[0])[0]\n",
    "\n",
    "    # create transfer\n",
    "    r = requests.post('http://skipper.caltech.edu:8080/cgi-bin/growth/transfer_source.cgi', \n",
    "                  auth=(pl1.user, pl1.passwd), \n",
    "                  data={'commit': 'yes', 'sourceid': sourceid, 'id': -1, 'from_program': programid,\n",
    "                        'to_program': 32, 'share': 'yes', 'comment': '', 'status': 'Submit'})\n",
    "    check_status(r.status_code)            \n",
    "    \n",
    "    return sourceid\n",
    "\n",
    "def confirm_transfer(sourceids):\n",
    "    # get currently pending transactions to determine transaction id\n",
    "    r = requests.post('http://skipper.caltech.edu:8080/cgi-bin/growth/pending_transactions.cgi', \n",
    "                      auth=(pl1.user, pl1.passwd))\n",
    "    check_status(r.status_code)    \n",
    "    \n",
    "    for name, sourceid in sourceids.items():\n",
    "        pattern = '<input type=hidden name=\"id\" value=[0-9]+>\\s*<input type=hidden name=\"sourceid\" value=%s>'%sourceid\n",
    "        query = re.findall(pattern, r.text)\n",
    "        \n",
    "        if len(query) > 0:\n",
    "            transid = re.findall('[0-9]+', query[0])[0]\n",
    "    \n",
    "            r2 = requests.post('http://skipper.caltech.edu:8080/cgi-bin/growth/transfer_source.cgi', \n",
    "                              auth=(pl1.user, pl1.passwd), \n",
    "                              data={'commit': 'yes', 'sourceid': sourceid, 'id': transid, 'status': 'Accept'})\n",
    "        else:\n",
    "            print('%s (id %s) not found in transactions.'%(name, sourceid))\n",
    "        "
   ]
  },
  {
   "cell_type": "code",
   "execution_count": null,
   "metadata": {},
   "outputs": [],
   "source": [
    "# Start by loading the list of SNe for the Cosmology program\n",
    "pl1 = marshaltools.ProgramList('Cosmology')"
   ]
  },
  {
   "cell_type": "code",
   "execution_count": null,
   "metadata": {},
   "outputs": [],
   "source": [
    "pls = {}"
   ]
  },
  {
   "cell_type": "code",
   "execution_count": null,
   "metadata": {},
   "outputs": [],
   "source": [
    "# Furthermore load a list of all source on the marshal that you have access to.\n",
    "# This may take a while.\n",
    "for p in pl1.program_list:\n",
    "    if p['name'] != 'Cosmology' and p['name'] not in pls.keys():\n",
    "        pls[p['name']] = marshaltools.ProgramList(p['name'], timeout=300) "
   ]
  },
  {
   "cell_type": "code",
   "execution_count": null,
   "metadata": {},
   "outputs": [],
   "source": [
    "# Figure out which SNe should be added to the Cosmology program\n",
    "new = []\n",
    "for pl_ in pls.values():\n",
    "    for s_ in pl_.sources.values():\n",
    "        if (s_['name'] not in pl1.sources.keys() \n",
    "            and (s_['name'], s_['classification']) not in new\n",
    "            and s_['classification'] is not None \n",
    "            and s_['classification'].startswith('SN Ia')):\n",
    "            new.append((s_['name'], s_['classification']))\n",
    "            \n",
    "print('Number of SNe Ia currently in the Cosmology program:', \n",
    "      len([a for a in pl1.sources.values() \n",
    "      if a['classification'] is not None and\n",
    "      a['classification'].startswith('SN Ia')]))\n",
    "print('Number of SNe Ia to be added:', len(new))"
   ]
  },
  {
   "cell_type": "code",
   "execution_count": null,
   "metadata": {},
   "outputs": [],
   "source": [
    "# Add them in groups of 10, i.e. 10 SNe are added to the transfer page and then confirmed.\n",
    "# This saves a few HTML requests. Do not set n to a much higher value because this will add\n",
    "# a lot of SNe to the transfer page, making it hard to use for a few minutes, best to avoid that.\n",
    "\n",
    "n = 10\n",
    "\n",
    "while len(new) > 0: \n",
    "    sourceids = {}\n",
    "    for k in range(min(len(new), n)):\n",
    "        name = new.pop(0)[0]\n",
    "        print(name)\n",
    "    \n",
    "        sourceids[name] = iniatiate_transfer(name)\n",
    "\n",
    "    confirm_transfer(sourceids)\n",
    "    print('Done.')"
   ]
  },
  {
   "cell_type": "code",
   "execution_count": null,
   "metadata": {
    "scrolled": true
   },
   "outputs": [],
   "source": [
    "print('Number of SNe Ia now in the Cosmology program:', \n",
    "      len([a for a in pl1.sources.values() \n",
    "      if a['classification'] is not None and\n",
    "      a['classification'].startswith('SN Ia')]))"
   ]
  }
 ],
 "metadata": {
  "anaconda-cloud": {},
  "kernelspec": {
   "display_name": "Python 3",
   "language": "python",
   "name": "python3"
  },
  "language_info": {
   "codemirror_mode": {
    "name": "ipython",
    "version": 3
   },
   "file_extension": ".py",
   "mimetype": "text/x-python",
   "name": "python",
   "nbconvert_exporter": "python",
   "pygments_lexer": "ipython3",
   "version": "3.6.7"
  }
 },
 "nbformat": 4,
 "nbformat_minor": 2
}
