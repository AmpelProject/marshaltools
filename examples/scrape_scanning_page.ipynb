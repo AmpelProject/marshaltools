{
 "cells": [
  {
   "cell_type": "markdown",
   "metadata": {},
   "source": [
    "# scraping sources from the scanning page"
   ]
  },
  {
   "cell_type": "markdown",
   "metadata": {},
   "source": [
    "### connect to your marshal program\n",
    "this will also download the scources in the 'saved candidates page'"
   ]
  },
  {
   "cell_type": "code",
   "execution_count": 1,
   "metadata": {},
   "outputs": [
    {
     "name": "stderr",
     "output_type": "stream",
     "text": [
      "INFO:marshaltools.ProgramList:Initialized ProgramList for program AMPEL Test (ID 3)\n",
      "INFO:marshaltools.ProgramList:Loaded 127 saved sources for program AMPEL Test.\n"
     ]
    }
   ],
   "source": [
    "import marshaltools\n",
    "prog = marshaltools.ProgramList('AMPEL Test')"
   ]
  },
  {
   "cell_type": "markdown",
   "metadata": {},
   "source": [
    "### get the sources from the scannning page\n",
    "\n",
    "The main query method is `query_candidate_page`. It uses the `list_candidates.cgi` script from the marhsall and returns a list of the candidate (the JSON file).\n",
    "\n",
    "Queries can be limted in time, using the `start_date` and `end_date` arguments. If `start_date` is not given (defaulting to None) then the quey will start from 1rst March 2018. If `end_date` is omitted (None by default), the query will stop now.\n"
   ]
  },
  {
   "cell_type": "code",
   "execution_count": 2,
   "metadata": {},
   "outputs": [
    {
     "name": "stdout",
     "output_type": "stream",
     "text": [
      "fetched 1512 candidates in 1.58e+01 sec\n"
     ]
    }
   ],
   "source": [
    "import time\n",
    "start = time.time()\n",
    "candidates = prog.query_candidate_page(\n",
    "            start_date = '2018-08-15 09:31.09', \n",
    "            end_date = '2018-09-07 09:31.09', \n",
    "            showsaved=\"selected\")\n",
    "print (\"fetched %d candidates in %.2e sec\"%(len(candidates), (time.time()-start)))"
   ]
  },
  {
   "cell_type": "code",
   "execution_count": 3,
   "metadata": {},
   "outputs": [
    {
     "name": "stdout",
     "output_type": "stream",
     "text": [
      "fetched 3160 candidates in 3.52e+01 sec\n"
     ]
    }
   ],
   "source": [
    "# now running without arguments, getting all the transients\n",
    "start = time.time()\n",
    "candidates = prog.query_candidate_page(showsaved=\"selected\")\n",
    "print (\"fetched %d candidates in %.2e sec\"%(len(candidates), (time.time()-start)))"
   ]
  },
  {
   "cell_type": "markdown",
   "metadata": {
    "collapsed": true
   },
   "source": [
    "### making it faster\n",
    "\n",
    "to speed up the process, better use the `get_candidates` method. This method splits the time range in pieces (5 days long by default), and executes the queries on multiple threads. Without arguments it will get all the candidates associated to the program and save them in the `candidates` attribute"
   ]
  },
  {
   "cell_type": "code",
   "execution_count": 4,
   "metadata": {},
   "outputs": [
    {
     "name": "stderr",
     "output_type": "stream",
     "text": [
      "INFO:marshaltools.ProgramList:Getting scanning page transient for program AMPEL Test between 2018-03-01 00:00:00 and 2018-09-10 13:26:19 using dt: 120.00 h\n",
      "INFO:marshaltools.ProgramList:download of candidates complete.\n"
     ]
    },
    {
     "name": "stdout",
     "output_type": "stream",
     "text": [
      "fetched 3171 candidates in 1.78e+01 sec\n"
     ]
    }
   ],
   "source": [
    "start = time.time()\n",
    "cand = prog.get_candidates(nworkers=24)\n",
    "print (\"fetched %d candidates in %.2e sec\"%(len(cand), (time.time()-start)))"
   ]
  },
  {
   "cell_type": "code",
   "execution_count": null,
   "metadata": {
    "collapsed": true
   },
   "outputs": [],
   "source": []
  }
 ],
 "metadata": {
  "kernelspec": {
   "display_name": "Python 3",
   "language": "python",
   "name": "python3"
  },
  "language_info": {
   "codemirror_mode": {
    "name": "ipython",
    "version": 3
   },
   "file_extension": ".py",
   "mimetype": "text/x-python",
   "name": "python",
   "nbconvert_exporter": "python",
   "pygments_lexer": "ipython3",
   "version": "3.6.3"
  }
 },
 "nbformat": 4,
 "nbformat_minor": 2
}
