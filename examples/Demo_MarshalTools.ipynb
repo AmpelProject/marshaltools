{
 "cells": [
  {
   "cell_type": "code",
   "execution_count": 1,
   "metadata": {},
   "outputs": [],
   "source": [
    "import marshaltools"
   ]
  },
  {
   "cell_type": "code",
   "execution_count": 2,
   "metadata": {},
   "outputs": [],
   "source": [
    "from marshaltools import ProgramList"
   ]
  },
  {
   "cell_type": "code",
   "execution_count": 4,
   "metadata": {},
   "outputs": [],
   "source": [
    "pl = ProgramList('Cosmology')"
   ]
  },
  {
   "cell_type": "code",
   "execution_count": 16,
   "metadata": {},
   "outputs": [],
   "source": [
    "t = pl.table"
   ]
  },
  {
   "cell_type": "code",
   "execution_count": 21,
   "metadata": {},
   "outputs": [
    {
     "data": {
      "text/plain": [
       "'ZTF18aabasml'"
      ]
     },
     "execution_count": 21,
     "metadata": {},
     "output_type": "execute_result"
    }
   ],
   "source": [
    "t['name'][1]"
   ]
  },
  {
   "cell_type": "code",
   "execution_count": 24,
   "metadata": {},
   "outputs": [],
   "source": [
    "lc = pl.get_lightcurve(t['name'][1])"
   ]
  },
  {
   "cell_type": "code",
   "execution_count": 25,
   "metadata": {},
   "outputs": [
    {
     "data": {
      "text/plain": [
       "'ZTF18aabasml'"
      ]
     },
     "execution_count": 25,
     "metadata": {},
     "output_type": "execute_result"
    }
   ],
   "source": [
    "lc.name"
   ]
  },
  {
   "cell_type": "code",
   "execution_count": 27,
   "metadata": {},
   "outputs": [
    {
     "data": {
      "text/html": [
       "<i>Table length=125</i>\n",
       "<table id=\"table103551766032\" class=\"table-striped table-bordered table-condensed\">\n",
       "<thead><tr><th>date</th><th>jdobs</th><th>filter</th><th>absmag</th><th>magpsf</th><th>sigmamagpsf</th><th>limmag</th><th>instrument</th><th>reducedby</th><th>refsys</th><th>issub</th></tr></thead>\n",
       "<thead><tr><th>str9</th><th>float64</th><th>str1</th><th>float64</th><th>float64</th><th>float64</th><th>float64</th><th>str7</th><th>str4</th><th>str4</th><th>str4</th></tr></thead>\n",
       "<tr><td>2017Dec14</td><td>2458101.9778</td><td>r</td><td>99.0</td><td>99.0</td><td>99.0</td><td>19.78</td><td>P48+ZTF</td><td>None</td><td>None</td><td>True</td></tr>\n",
       "<tr><td>2017Dec14</td><td>2458101.9959</td><td>r</td><td>99.0</td><td>99.0</td><td>99.0</td><td>19.78</td><td>P48+ZTF</td><td>None</td><td>None</td><td>True</td></tr>\n",
       "<tr><td>2017Dec14</td><td>2458102.009</td><td>r</td><td>99.0</td><td>99.0</td><td>99.0</td><td>19.67</td><td>P48+ZTF</td><td>None</td><td>None</td><td>True</td></tr>\n",
       "<tr><td>2017Dec16</td><td>2458103.9962</td><td>r</td><td>99.0</td><td>99.0</td><td>99.0</td><td>18.52</td><td>P48+ZTF</td><td>None</td><td>None</td><td>True</td></tr>\n",
       "<tr><td>2017Dec18</td><td>2458105.9651</td><td>r</td><td>99.0</td><td>99.0</td><td>99.0</td><td>19.73</td><td>P48+ZTF</td><td>None</td><td>None</td><td>True</td></tr>\n",
       "<tr><td>2017Dec18</td><td>2458105.9895</td><td>r</td><td>99.0</td><td>99.0</td><td>99.0</td><td>19.77</td><td>P48+ZTF</td><td>None</td><td>None</td><td>True</td></tr>\n",
       "<tr><td>2017Dec18</td><td>2458106.0147</td><td>r</td><td>99.0</td><td>99.0</td><td>99.0</td><td>19.78</td><td>P48+ZTF</td><td>None</td><td>None</td><td>True</td></tr>\n",
       "<tr><td>2018Jan11</td><td>2458129.9086</td><td>g</td><td>99.0</td><td>99.0</td><td>99.0</td><td>20.86</td><td>P48+ZTF</td><td>None</td><td>None</td><td>True</td></tr>\n",
       "<tr><td>2018Jan11</td><td>2458129.9341</td><td>g</td><td>99.0</td><td>99.0</td><td>99.0</td><td>20.73</td><td>P48+ZTF</td><td>None</td><td>None</td><td>True</td></tr>\n",
       "<tr><td>2018Jan11</td><td>2458129.9483</td><td>g</td><td>99.0</td><td>99.0</td><td>99.0</td><td>20.71</td><td>P48+ZTF</td><td>None</td><td>None</td><td>True</td></tr>\n",
       "<tr><td>...</td><td>...</td><td>...</td><td>...</td><td>...</td><td>...</td><td>...</td><td>...</td><td>...</td><td>...</td><td>...</td></tr>\n",
       "<tr><td>2018Jun08</td><td>2458277.7402</td><td>r</td><td>-17.57</td><td>18.98</td><td>0.09</td><td>20.2</td><td>P48+ZTF</td><td>None</td><td>None</td><td>True</td></tr>\n",
       "<tr><td>2018Jun11</td><td>2458280.696</td><td>r</td><td>-17.79</td><td>18.77</td><td>0.06</td><td>20.5</td><td>P48+ZTF</td><td>None</td><td>None</td><td>True</td></tr>\n",
       "<tr><td>2018Jun11</td><td>2458280.7167</td><td>g</td><td>-18.12</td><td>18.44</td><td>0.04</td><td>20.71</td><td>P48+ZTF</td><td>None</td><td>None</td><td>True</td></tr>\n",
       "<tr><td>2018Jun14</td><td>2458283.7028</td><td>r</td><td>-17.99</td><td>18.57</td><td>0.05</td><td>20.44</td><td>P48+ZTF</td><td>None</td><td>None</td><td>True</td></tr>\n",
       "<tr><td>2018Jun14</td><td>2458283.7424</td><td>g</td><td>-18.22</td><td>18.34</td><td>0.03</td><td>20.62</td><td>P48+ZTF</td><td>None</td><td>None</td><td>True</td></tr>\n",
       "<tr><td>2018Jun17</td><td>2458286.7195</td><td>g</td><td>-18.27</td><td>18.29</td><td>0.03</td><td>20.54</td><td>P48+ZTF</td><td>None</td><td>None</td><td>True</td></tr>\n",
       "<tr><td>2018Jun20</td><td>2458289.6937</td><td>g</td><td>-18.09</td><td>18.47</td><td>0.09</td><td>20.02</td><td>P48+ZTF</td><td>None</td><td>None</td><td>True</td></tr>\n",
       "<tr><td>2018Jun20</td><td>2458289.72</td><td>r</td><td>-17.65</td><td>18.9</td><td>0.11</td><td>19.8</td><td>P48+ZTF</td><td>None</td><td>None</td><td>True</td></tr>\n",
       "<tr><td>2018Jun23</td><td>2458292.6971</td><td>g</td><td>-18.08</td><td>18.48</td><td>0.12</td><td>19.84</td><td>P48+ZTF</td><td>None</td><td>None</td><td>True</td></tr>\n",
       "<tr><td>2018Jun26</td><td>2458295.679</td><td>g</td><td>-18.04</td><td>18.52</td><td>0.1</td><td>19.66</td><td>P48+ZTF</td><td>None</td><td>None</td><td>True</td></tr>\n",
       "</table>"
      ],
      "text/plain": [
       "<Table length=125>\n",
       "   date      jdobs     filter  absmag ... instrument reducedby refsys issub\n",
       "   str9     float64     str1  float64 ...    str7       str4    str4   str4\n",
       "--------- ------------ ------ ------- ... ---------- --------- ------ -----\n",
       "2017Dec14 2458101.9778      r    99.0 ...    P48+ZTF      None   None  True\n",
       "2017Dec14 2458101.9959      r    99.0 ...    P48+ZTF      None   None  True\n",
       "2017Dec14  2458102.009      r    99.0 ...    P48+ZTF      None   None  True\n",
       "2017Dec16 2458103.9962      r    99.0 ...    P48+ZTF      None   None  True\n",
       "2017Dec18 2458105.9651      r    99.0 ...    P48+ZTF      None   None  True\n",
       "2017Dec18 2458105.9895      r    99.0 ...    P48+ZTF      None   None  True\n",
       "2017Dec18 2458106.0147      r    99.0 ...    P48+ZTF      None   None  True\n",
       "2018Jan11 2458129.9086      g    99.0 ...    P48+ZTF      None   None  True\n",
       "2018Jan11 2458129.9341      g    99.0 ...    P48+ZTF      None   None  True\n",
       "2018Jan11 2458129.9483      g    99.0 ...    P48+ZTF      None   None  True\n",
       "      ...          ...    ...     ... ...        ...       ...    ...   ...\n",
       "2018Jun08 2458277.7402      r  -17.57 ...    P48+ZTF      None   None  True\n",
       "2018Jun11  2458280.696      r  -17.79 ...    P48+ZTF      None   None  True\n",
       "2018Jun11 2458280.7167      g  -18.12 ...    P48+ZTF      None   None  True\n",
       "2018Jun14 2458283.7028      r  -17.99 ...    P48+ZTF      None   None  True\n",
       "2018Jun14 2458283.7424      g  -18.22 ...    P48+ZTF      None   None  True\n",
       "2018Jun17 2458286.7195      g  -18.27 ...    P48+ZTF      None   None  True\n",
       "2018Jun20 2458289.6937      g  -18.09 ...    P48+ZTF      None   None  True\n",
       "2018Jun20   2458289.72      r  -17.65 ...    P48+ZTF      None   None  True\n",
       "2018Jun23 2458292.6971      g  -18.08 ...    P48+ZTF      None   None  True\n",
       "2018Jun26  2458295.679      g  -18.04 ...    P48+ZTF      None   None  True"
      ]
     },
     "execution_count": 27,
     "metadata": {},
     "output_type": "execute_result"
    }
   ],
   "source": [
    "lc.table"
   ]
  },
  {
   "cell_type": "code",
   "execution_count": null,
   "metadata": {},
   "outputs": [],
   "source": []
  }
 ],
 "metadata": {
  "kernelspec": {
   "display_name": "Python 3",
   "language": "python",
   "name": "python3"
  },
  "language_info": {
   "codemirror_mode": {
    "name": "ipython",
    "version": 3
   },
   "file_extension": ".py",
   "mimetype": "text/x-python",
   "name": "python",
   "nbconvert_exporter": "python",
   "pygments_lexer": "ipython3",
   "version": "3.6.5"
  }
 },
 "nbformat": 4,
 "nbformat_minor": 2
}
