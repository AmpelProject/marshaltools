{
 "cells": [
  {
   "cell_type": "code",
   "execution_count": 1,
   "metadata": {},
   "outputs": [],
   "source": [
    "import marshaltools"
   ]
  },
  {
   "cell_type": "code",
   "execution_count": 2,
   "metadata": {},
   "outputs": [],
   "source": [
    "from marshaltools import ProgramList"
   ]
  },
  {
   "cell_type": "code",
   "execution_count": 3,
   "metadata": {},
   "outputs": [
    {
     "name": "stderr",
     "output_type": "stream",
     "text": [
      "INFO:marshaltools.ProgramList:Initialized ProgramList for program Cosmology (ID 0)\n",
      "INFO:marshaltools.ProgramList:Loaded 701 saved sources for program Cosmology.\n"
     ]
    }
   ],
   "source": [
    "pl = ProgramList('Cosmology')"
   ]
  },
  {
   "cell_type": "code",
   "execution_count": 4,
   "metadata": {},
   "outputs": [],
   "source": [
    "t = pl.table"
   ]
  },
  {
   "cell_type": "code",
   "execution_count": 5,
   "metadata": {},
   "outputs": [
    {
     "data": {
      "text/plain": [
       "'ZTF18aabasml'"
      ]
     },
     "execution_count": 5,
     "metadata": {},
     "output_type": "execute_result"
    }
   ],
   "source": [
    "t['name'][1]"
   ]
  },
  {
   "cell_type": "code",
   "execution_count": 6,
   "metadata": {},
   "outputs": [],
   "source": [
    "lc = pl.get_lightcurve(t['name'][1])"
   ]
  },
  {
   "cell_type": "code",
   "execution_count": 7,
   "metadata": {},
   "outputs": [
    {
     "data": {
      "text/plain": [
       "'ZTF18aabasml'"
      ]
     },
     "execution_count": 7,
     "metadata": {},
     "output_type": "execute_result"
    }
   ],
   "source": [
    "lc.name"
   ]
  },
  {
   "cell_type": "code",
   "execution_count": 8,
   "metadata": {},
   "outputs": [
    {
     "data": {
      "text/html": [
       "<i>Table length=244</i>\n",
       "<table id=\"table4584383264\" class=\"table-striped table-bordered table-condensed\">\n",
       "<thead><tr><th>date</th><th>jdobs</th><th>filter</th><th>absmag</th><th>magpsf</th><th>sigmamagpsf</th><th>limmag</th><th>instrument</th><th>programid</th><th>reducedby</th><th>refsys</th><th>issub</th></tr></thead>\n",
       "<thead><tr><th>str9</th><th>float64</th><th>str1</th><th>float64</th><th>float64</th><th>float64</th><th>float64</th><th>str7</th><th>int64</th><th>str4</th><th>str4</th><th>str4</th></tr></thead>\n",
       "<tr><td>2017Dec14</td><td>2458101.9778</td><td>r</td><td>99.0</td><td>99.0</td><td>99.0</td><td>19.78</td><td>P48+ZTF</td><td>0</td><td>None</td><td>None</td><td>True</td></tr>\n",
       "<tr><td>2017Dec14</td><td>2458101.9959</td><td>r</td><td>99.0</td><td>99.0</td><td>99.0</td><td>19.78</td><td>P48+ZTF</td><td>0</td><td>None</td><td>None</td><td>True</td></tr>\n",
       "<tr><td>2017Dec14</td><td>2458102.009</td><td>r</td><td>99.0</td><td>99.0</td><td>99.0</td><td>19.67</td><td>P48+ZTF</td><td>0</td><td>None</td><td>None</td><td>True</td></tr>\n",
       "<tr><td>2017Dec16</td><td>2458103.9962</td><td>r</td><td>99.0</td><td>99.0</td><td>99.0</td><td>18.52</td><td>P48+ZTF</td><td>0</td><td>None</td><td>None</td><td>True</td></tr>\n",
       "<tr><td>2017Dec18</td><td>2458105.9651</td><td>r</td><td>99.0</td><td>99.0</td><td>99.0</td><td>19.73</td><td>P48+ZTF</td><td>0</td><td>None</td><td>None</td><td>True</td></tr>\n",
       "<tr><td>2017Dec18</td><td>2458105.9895</td><td>r</td><td>99.0</td><td>99.0</td><td>99.0</td><td>19.77</td><td>P48+ZTF</td><td>0</td><td>None</td><td>None</td><td>True</td></tr>\n",
       "<tr><td>2017Dec18</td><td>2458106.0147</td><td>r</td><td>99.0</td><td>99.0</td><td>99.0</td><td>19.78</td><td>P48+ZTF</td><td>0</td><td>None</td><td>None</td><td>True</td></tr>\n",
       "<tr><td>2018Jan11</td><td>2458129.9086</td><td>g</td><td>99.0</td><td>99.0</td><td>99.0</td><td>20.86</td><td>P48+ZTF</td><td>0</td><td>None</td><td>None</td><td>True</td></tr>\n",
       "<tr><td>2018Jan11</td><td>2458129.9341</td><td>g</td><td>99.0</td><td>99.0</td><td>99.0</td><td>20.73</td><td>P48+ZTF</td><td>0</td><td>None</td><td>None</td><td>True</td></tr>\n",
       "<tr><td>2018Jan11</td><td>2458129.9483</td><td>g</td><td>99.0</td><td>99.0</td><td>99.0</td><td>20.71</td><td>P48+ZTF</td><td>0</td><td>None</td><td>None</td><td>True</td></tr>\n",
       "<tr><td>...</td><td>...</td><td>...</td><td>...</td><td>...</td><td>...</td><td>...</td><td>...</td><td>...</td><td>...</td><td>...</td><td>...</td></tr>\n",
       "<tr><td>2019Jan19</td><td>2458503.0326</td><td>r</td><td>-17.95</td><td>18.61</td><td>0.11</td><td>19.62</td><td>P48+ZTF</td><td>3</td><td>None</td><td>None</td><td>True</td></tr>\n",
       "<tr><td>2019Jan22</td><td>2458505.9792</td><td>g</td><td>-18.17</td><td>18.38</td><td>0.12</td><td>19.04</td><td>P48+ZTF</td><td>3</td><td>None</td><td>None</td><td>True</td></tr>\n",
       "<tr><td>2019Jan23</td><td>2458506.9761</td><td>g</td><td>-18.22</td><td>18.34</td><td>0.14</td><td>18.97</td><td>P48+ZTF</td><td>3</td><td>None</td><td>None</td><td>True</td></tr>\n",
       "<tr><td>2019Jan24</td><td>2458507.9728</td><td>g</td><td>-18.08</td><td>18.48</td><td>0.12</td><td>19.32</td><td>P48+ZTF</td><td>3</td><td>None</td><td>None</td><td>True</td></tr>\n",
       "<tr><td>2019Jan25</td><td>2458508.9704</td><td>r</td><td>-17.9</td><td>18.66</td><td>0.11</td><td>19.63</td><td>P48+ZTF</td><td>3</td><td>None</td><td>None</td><td>True</td></tr>\n",
       "<tr><td>2019Jan25</td><td>2458509.0316</td><td>g</td><td>-18.22</td><td>18.33</td><td>0.09</td><td>19.52</td><td>P48+ZTF</td><td>3</td><td>None</td><td>None</td><td>True</td></tr>\n",
       "<tr><td>2019Jan25</td><td>2458509.0325</td><td>g</td><td>-18.1</td><td>18.45</td><td>0.09</td><td>19.39</td><td>P48+ZTF</td><td>1</td><td>None</td><td>None</td><td>True</td></tr>\n",
       "<tr><td>2019Jan28</td><td>2458511.9309</td><td>g</td><td>-18.06</td><td>18.5</td><td>0.09</td><td>20.57</td><td>P48+ZTF</td><td>3</td><td>None</td><td>None</td><td>True</td></tr>\n",
       "<tr><td>2019Jan28</td><td>2458511.9318</td><td>g</td><td>-18.09</td><td>18.47</td><td>0.07</td><td>20.55</td><td>P48+ZTF</td><td>1</td><td>None</td><td>None</td><td>True</td></tr>\n",
       "<tr><td>2019Feb08</td><td>2458522.9211</td><td>g</td><td>-18.21</td><td>18.35</td><td>0.08</td><td>20.95</td><td>P48+ZTF</td><td>1</td><td>None</td><td>None</td><td>True</td></tr>\n",
       "</table>"
      ],
      "text/plain": [
       "<Table length=244>\n",
       "   date      jdobs     filter  absmag ... programid reducedby refsys issub\n",
       "   str9     float64     str1  float64 ...   int64      str4    str4   str4\n",
       "--------- ------------ ------ ------- ... --------- --------- ------ -----\n",
       "2017Dec14 2458101.9778      r    99.0 ...         0      None   None  True\n",
       "2017Dec14 2458101.9959      r    99.0 ...         0      None   None  True\n",
       "2017Dec14  2458102.009      r    99.0 ...         0      None   None  True\n",
       "2017Dec16 2458103.9962      r    99.0 ...         0      None   None  True\n",
       "2017Dec18 2458105.9651      r    99.0 ...         0      None   None  True\n",
       "2017Dec18 2458105.9895      r    99.0 ...         0      None   None  True\n",
       "2017Dec18 2458106.0147      r    99.0 ...         0      None   None  True\n",
       "2018Jan11 2458129.9086      g    99.0 ...         0      None   None  True\n",
       "2018Jan11 2458129.9341      g    99.0 ...         0      None   None  True\n",
       "2018Jan11 2458129.9483      g    99.0 ...         0      None   None  True\n",
       "      ...          ...    ...     ... ...       ...       ...    ...   ...\n",
       "2019Jan19 2458503.0326      r  -17.95 ...         3      None   None  True\n",
       "2019Jan22 2458505.9792      g  -18.17 ...         3      None   None  True\n",
       "2019Jan23 2458506.9761      g  -18.22 ...         3      None   None  True\n",
       "2019Jan24 2458507.9728      g  -18.08 ...         3      None   None  True\n",
       "2019Jan25 2458508.9704      r   -17.9 ...         3      None   None  True\n",
       "2019Jan25 2458509.0316      g  -18.22 ...         3      None   None  True\n",
       "2019Jan25 2458509.0325      g   -18.1 ...         1      None   None  True\n",
       "2019Jan28 2458511.9309      g  -18.06 ...         3      None   None  True\n",
       "2019Jan28 2458511.9318      g  -18.09 ...         1      None   None  True\n",
       "2019Feb08 2458522.9211      g  -18.21 ...         1      None   None  True"
      ]
     },
     "execution_count": 8,
     "metadata": {},
     "output_type": "execute_result"
    }
   ],
   "source": [
    "lc.table"
   ]
  },
  {
   "cell_type": "markdown",
   "metadata": {},
   "source": [
    "### Try out an example that was problematic due to extra commas and inverted commas"
   ]
  },
  {
   "cell_type": "code",
   "execution_count": 9,
   "metadata": {},
   "outputs": [
    {
     "name": "stderr",
     "output_type": "stream",
     "text": [
      "INFO:marshaltools.ProgramList:Initialized ProgramList for program Redshift Completeness Factor (ID 2)\n",
      "INFO:marshaltools.ProgramList:Loaded 1644 saved sources for program Redshift Completeness Factor.\n"
     ]
    }
   ],
   "source": [
    "plrcf = ProgramList('Redshift Completeness Factor')"
   ]
  },
  {
   "cell_type": "code",
   "execution_count": 10,
   "metadata": {},
   "outputs": [],
   "source": [
    "xx = plrcf.get_lightcurve('ZTF18abeajml')"
   ]
  },
  {
   "cell_type": "code",
   "execution_count": 11,
   "metadata": {},
   "outputs": [
    {
     "data": {
      "text/html": [
       "<i>Table length=647</i>\n",
       "<table id=\"table4596105112\" class=\"table-striped table-bordered table-condensed\">\n",
       "<thead><tr><th>date</th><th>jdobs</th><th>filter</th><th>absmag</th><th>magpsf</th><th>sigmamagpsf</th><th>limmag</th><th>instrument</th><th>programid</th><th>reducedby</th><th>refsys</th><th>issub</th></tr></thead>\n",
       "<thead><tr><th>str9</th><th>float64</th><th>str4</th><th>float64</th><th>float64</th><th>float64</th><th>float64</th><th>str10</th><th>str4</th><th>str25</th><th>str67</th><th>str5</th></tr></thead>\n",
       "<tr><td>2018Jun07</td><td>2458276.7936</td><td>r</td><td>99.0</td><td>99.0</td><td>99.0</td><td>20.76</td><td>P48+ZTF</td><td>2</td><td>None</td><td>None</td><td>True</td></tr>\n",
       "<tr><td>2018Jun07</td><td>2458276.8129</td><td>r</td><td>99.0</td><td>99.0</td><td>99.0</td><td>20.75</td><td>P48+ZTF</td><td>2</td><td>None</td><td>None</td><td>True</td></tr>\n",
       "<tr><td>2018Jun07</td><td>2458276.8153</td><td>r</td><td>99.0</td><td>99.0</td><td>99.0</td><td>20.84</td><td>P48+ZTF</td><td>2</td><td>None</td><td>None</td><td>True</td></tr>\n",
       "<tr><td>2018Jun07</td><td>2458276.8167</td><td>r</td><td>99.0</td><td>99.0</td><td>99.0</td><td>20.8</td><td>P48+ZTF</td><td>2</td><td>None</td><td>None</td><td>True</td></tr>\n",
       "<tr><td>2018Jun07</td><td>2458276.8407</td><td>g</td><td>99.0</td><td>99.0</td><td>99.0</td><td>20.97</td><td>P48+ZTF</td><td>2</td><td>None</td><td>None</td><td>True</td></tr>\n",
       "<tr><td>2018Jun07</td><td>2458276.8421</td><td>g</td><td>99.0</td><td>99.0</td><td>99.0</td><td>20.78</td><td>P48+ZTF</td><td>2</td><td>None</td><td>None</td><td>True</td></tr>\n",
       "<tr><td>2018Jun07</td><td>2458276.8592</td><td>g</td><td>99.0</td><td>99.0</td><td>99.0</td><td>20.92</td><td>P48+ZTF</td><td>2</td><td>None</td><td>None</td><td>True</td></tr>\n",
       "<tr><td>2018Jun07</td><td>2458276.8596</td><td>g</td><td>99.0</td><td>99.0</td><td>99.0</td><td>20.82</td><td>P48+ZTF</td><td>2</td><td>None</td><td>None</td><td>True</td></tr>\n",
       "<tr><td>2018Jun07</td><td>2458276.8792</td><td>g</td><td>99.0</td><td>99.0</td><td>99.0</td><td>20.81</td><td>P48+ZTF</td><td>2</td><td>None</td><td>None</td><td>True</td></tr>\n",
       "<tr><td>2018Jun08</td><td>2458277.7909</td><td>r</td><td>99.0</td><td>99.0</td><td>99.0</td><td>20.86</td><td>P48+ZTF</td><td>2</td><td>None</td><td>None</td><td>True</td></tr>\n",
       "<tr><td>...</td><td>...</td><td>...</td><td>...</td><td>...</td><td>...</td><td>...</td><td>...</td><td>...</td><td>...</td><td>...</td><td>...</td></tr>\n",
       "<tr><td>2018Sep22</td><td>2458383.6123</td><td>r</td><td>99.0</td><td>99.0</td><td>99.0</td><td>19.46</td><td>P48+ZTF</td><td>2</td><td>None</td><td>None</td><td>True</td></tr>\n",
       "<tr><td>2018Sep22</td><td>2458383.6132</td><td>r</td><td>-16.53</td><td>19.44</td><td>0.14</td><td>19.65</td><td>P48+ZTF</td><td>1</td><td>None</td><td>None</td><td>True</td></tr>\n",
       "<tr><td>2018Sep22</td><td>2458383.6323</td><td>r</td><td>-16.41</td><td>19.56</td><td>0.25</td><td>19.79</td><td>P48+ZTF</td><td>2</td><td>None</td><td>None</td><td>True</td></tr>\n",
       "<tr><td>2018Sep22</td><td>2458383.6513</td><td>r</td><td>-16.49</td><td>19.48</td><td>0.26</td><td>19.63</td><td>P48+ZTF</td><td>2</td><td>None</td><td>None</td><td>True</td></tr>\n",
       "<tr><td>2018Sep22</td><td>2458383.6847</td><td>g</td><td>99.0</td><td>99.0</td><td>99.0</td><td>19.58</td><td>P48+ZTF</td><td>2</td><td>None</td><td>None</td><td>True</td></tr>\n",
       "<tr><td>2018Sep22</td><td>2458383.7059</td><td>g</td><td>99.0</td><td>99.0</td><td>99.0</td><td>19.31</td><td>P48+ZTF</td><td>1</td><td>None</td><td>None</td><td>True</td></tr>\n",
       "<tr><td>2018Sep22</td><td>2458383.7068</td><td>g</td><td>99.0</td><td>99.0</td><td>99.0</td><td>19.37</td><td>P48+ZTF</td><td>2</td><td>None</td><td>None</td><td>True</td></tr>\n",
       "<tr><td>2018Sep22</td><td>2458383.7116</td><td>g</td><td>99.0</td><td>99.0</td><td>99.0</td><td>19.25</td><td>P48+ZTF</td><td>2</td><td>None</td><td>None</td><td>True</td></tr>\n",
       "<tr><td>2018Sep23</td><td>2458384.6371</td><td>r</td><td>-16.38</td><td>19.59</td><td>0.18</td><td>19.94</td><td>P48+ZTF</td><td>2</td><td>None</td><td>None</td><td>True</td></tr>\n",
       "<tr><td>2018Sep23</td><td>2458384.6511</td><td>r</td><td>-16.52</td><td>19.45</td><td>0.18</td><td>19.69</td><td>P48+ZTF</td><td>2</td><td>None</td><td>None</td><td>True</td></tr>\n",
       "</table>"
      ],
      "text/plain": [
       "<Table length=647>\n",
       "   date      jdobs     filter  absmag ... programid reducedby refsys issub\n",
       "   str9     float64     str4  float64 ...    str4     str25   str67   str5\n",
       "--------- ------------ ------ ------- ... --------- --------- ------ -----\n",
       "2018Jun07 2458276.7936      r    99.0 ...         2      None   None  True\n",
       "2018Jun07 2458276.8129      r    99.0 ...         2      None   None  True\n",
       "2018Jun07 2458276.8153      r    99.0 ...         2      None   None  True\n",
       "2018Jun07 2458276.8167      r    99.0 ...         2      None   None  True\n",
       "2018Jun07 2458276.8407      g    99.0 ...         2      None   None  True\n",
       "2018Jun07 2458276.8421      g    99.0 ...         2      None   None  True\n",
       "2018Jun07 2458276.8592      g    99.0 ...         2      None   None  True\n",
       "2018Jun07 2458276.8596      g    99.0 ...         2      None   None  True\n",
       "2018Jun07 2458276.8792      g    99.0 ...         2      None   None  True\n",
       "2018Jun08 2458277.7909      r    99.0 ...         2      None   None  True\n",
       "      ...          ...    ...     ... ...       ...       ...    ...   ...\n",
       "2018Sep22 2458383.6123      r    99.0 ...         2      None   None  True\n",
       "2018Sep22 2458383.6132      r  -16.53 ...         1      None   None  True\n",
       "2018Sep22 2458383.6323      r  -16.41 ...         2      None   None  True\n",
       "2018Sep22 2458383.6513      r  -16.49 ...         2      None   None  True\n",
       "2018Sep22 2458383.6847      g    99.0 ...         2      None   None  True\n",
       "2018Sep22 2458383.7059      g    99.0 ...         1      None   None  True\n",
       "2018Sep22 2458383.7068      g    99.0 ...         2      None   None  True\n",
       "2018Sep22 2458383.7116      g    99.0 ...         2      None   None  True\n",
       "2018Sep23 2458384.6371      r  -16.38 ...         2      None   None  True\n",
       "2018Sep23 2458384.6511      r  -16.52 ...         2      None   None  True"
      ]
     },
     "execution_count": 11,
     "metadata": {},
     "output_type": "execute_result"
    }
   ],
   "source": [
    "xx.table"
   ]
  }
 ],
 "metadata": {
  "kernelspec": {
   "display_name": "Python 3",
   "language": "python",
   "name": "python3"
  },
  "language_info": {
   "codemirror_mode": {
    "name": "ipython",
    "version": 3
   },
   "file_extension": ".py",
   "mimetype": "text/x-python",
   "name": "python",
   "nbconvert_exporter": "python",
   "pygments_lexer": "ipython3",
   "version": "3.6.7"
  }
 },
 "nbformat": 4,
 "nbformat_minor": 2
}
